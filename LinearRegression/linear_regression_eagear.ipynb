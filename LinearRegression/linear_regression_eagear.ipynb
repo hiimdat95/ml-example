{
 "cells": [
  {
   "cell_type": "code",
   "execution_count": 1,
   "metadata": {},
   "outputs": [],
   "source": [
    "import tensorflow as tf"
   ]
  },
  {
   "cell_type": "code",
   "execution_count": 2,
   "metadata": {},
   "outputs": [
    {
     "name": "stdout",
     "output_type": "stream",
     "text": [
      "True\n"
     ]
    }
   ],
   "source": [
    "tf.enable_eager_execution()\n",
    "print(tf.executing_eagerly())"
   ]
  },
  {
   "cell_type": "code",
   "execution_count": 3,
   "metadata": {},
   "outputs": [],
   "source": [
    "import numpy as np"
   ]
  },
  {
   "cell_type": "code",
   "execution_count": 4,
   "metadata": {},
   "outputs": [],
   "source": [
    "X_data = np.random.random((10000,2))"
   ]
  },
  {
   "cell_type": "code",
   "execution_count": 5,
   "metadata": {},
   "outputs": [
    {
     "data": {
      "text/plain": [
       "array([[0.00524662, 0.11702478],\n",
       "       [0.03004481, 0.83221913],\n",
       "       [0.03621821, 0.39181878],\n",
       "       ...,\n",
       "       [0.21744713, 0.42617115],\n",
       "       [0.43377152, 0.88005568],\n",
       "       [0.50909975, 0.94577261]])"
      ]
     },
     "execution_count": 5,
     "metadata": {},
     "output_type": "execute_result"
    }
   ],
   "source": [
    "X_data"
   ]
  },
  {
   "cell_type": "code",
   "execution_count": 6,
   "metadata": {},
   "outputs": [],
   "source": [
    "sample_weights = np.array([3, 4])"
   ]
  },
  {
   "cell_type": "code",
   "execution_count": 7,
   "metadata": {},
   "outputs": [],
   "source": [
    "y_data = np.matmul(X_data, sample_weights.transpose())"
   ]
  },
  {
   "cell_type": "code",
   "execution_count": 8,
   "metadata": {},
   "outputs": [
    {
     "data": {
      "text/plain": [
       "array([0.48383899, 3.41901093, 1.67592974, ..., 2.35702597, 4.82153728,\n",
       "       5.31038969])"
      ]
     },
     "execution_count": 8,
     "metadata": {},
     "output_type": "execute_result"
    }
   ],
   "source": [
    "y_data"
   ]
  },
  {
   "cell_type": "code",
   "execution_count": 9,
   "metadata": {},
   "outputs": [
    {
     "data": {
      "text/plain": [
       "(10000,)"
      ]
     },
     "execution_count": 9,
     "metadata": {},
     "output_type": "execute_result"
    }
   ],
   "source": [
    "y_data.shape"
   ]
  },
  {
   "cell_type": "code",
   "execution_count": 10,
   "metadata": {},
   "outputs": [],
   "source": [
    "y_data = y_data.reshape(len(y_data),1)"
   ]
  },
  {
   "cell_type": "code",
   "execution_count": 11,
   "metadata": {},
   "outputs": [
    {
     "data": {
      "text/plain": [
       "(10000, 1)"
      ]
     },
     "execution_count": 11,
     "metadata": {},
     "output_type": "execute_result"
    }
   ],
   "source": [
    "y_data.shape"
   ]
  },
  {
   "cell_type": "code",
   "execution_count": 12,
   "metadata": {},
   "outputs": [
    {
     "data": {
      "text/plain": [
       "array([[0.48383899],\n",
       "       [3.41901093],\n",
       "       [1.67592974],\n",
       "       ...,\n",
       "       [2.35702597],\n",
       "       [4.82153728],\n",
       "       [5.31038969]])"
      ]
     },
     "execution_count": 12,
     "metadata": {},
     "output_type": "execute_result"
    }
   ],
   "source": [
    "y_data"
   ]
  },
  {
   "cell_type": "code",
   "execution_count": 13,
   "metadata": {},
   "outputs": [],
   "source": [
    "# Add noise to data\n",
    "y_data = np.add(y_data, np.random.uniform(-0.5, 0.5))"
   ]
  },
  {
   "cell_type": "code",
   "execution_count": 14,
   "metadata": {},
   "outputs": [
    {
     "data": {
      "text/plain": [
       "array([[0.41596615],\n",
       "       [3.35113809],\n",
       "       [1.60805691],\n",
       "       ...,\n",
       "       [2.28915313],\n",
       "       [4.75366444],\n",
       "       [5.24251686]])"
      ]
     },
     "execution_count": 14,
     "metadata": {},
     "output_type": "execute_result"
    }
   ],
   "source": [
    "y_data"
   ]
  },
  {
   "cell_type": "code",
   "execution_count": 15,
   "metadata": {},
   "outputs": [],
   "source": [
    "#  Split data to training and testing\n",
    "from sklearn.model_selection import train_test_split\n",
    "X_train, X_test, y_train, y_test = train_test_split(X_data, y_data, test_size=0.2)"
   ]
  },
  {
   "cell_type": "code",
   "execution_count": 16,
   "metadata": {},
   "outputs": [
    {
     "data": {
      "text/plain": [
       "(8000, 2)"
      ]
     },
     "execution_count": 16,
     "metadata": {},
     "output_type": "execute_result"
    }
   ],
   "source": [
    "X_train.shape"
   ]
  },
  {
   "cell_type": "code",
   "execution_count": 17,
   "metadata": {},
   "outputs": [
    {
     "data": {
      "text/plain": [
       "array([[0.58408645, 0.17542469],\n",
       "       [0.13420993, 0.01351474],\n",
       "       [0.81999127, 0.22493859],\n",
       "       ...,\n",
       "       [0.16918431, 0.78667633],\n",
       "       [0.74732915, 0.88505324],\n",
       "       [0.59212997, 0.15430513]])"
      ]
     },
     "execution_count": 17,
     "metadata": {},
     "output_type": "execute_result"
    }
   ],
   "source": [
    "X_train"
   ]
  },
  {
   "cell_type": "code",
   "execution_count": 18,
   "metadata": {},
   "outputs": [
    {
     "data": {
      "text/plain": [
       "(2000, 2)"
      ]
     },
     "execution_count": 18,
     "metadata": {},
     "output_type": "execute_result"
    }
   ],
   "source": [
    "X_test.shape"
   ]
  },
  {
   "cell_type": "code",
   "execution_count": 19,
   "metadata": {},
   "outputs": [],
   "source": [
    "tfe = tf.contrib.eager"
   ]
  },
  {
   "cell_type": "code",
   "execution_count": 20,
   "metadata": {},
   "outputs": [],
   "source": [
    "# Khai bao bien\n",
    "w = tfe.Variable([[1.0, 1.0]])\n",
    "b = tfe.Variable(np.random.uniform(-0.2, 0.2))"
   ]
  },
  {
   "cell_type": "code",
   "execution_count": 21,
   "metadata": {},
   "outputs": [],
   "source": [
    "# Linear Regression\n",
    "def linear_regression(inputs):\n",
    "    return tf.matmul(inputs,w, transpose_b=True)"
   ]
  },
  {
   "cell_type": "code",
   "execution_count": 22,
   "metadata": {},
   "outputs": [],
   "source": [
    "# Loss function mean square error\n",
    "def loss_function(model_fn, inputs, labels):\n",
    "    return tf.reduce_mean(tf.square(model_fn(inputs) - labels))"
   ]
  },
  {
   "cell_type": "code",
   "execution_count": 23,
   "metadata": {},
   "outputs": [],
   "source": [
    "# Paramaters\n",
    "learning_rate = 0.002\n",
    "num_steps = 10000"
   ]
  },
  {
   "cell_type": "code",
   "execution_count": 24,
   "metadata": {},
   "outputs": [],
   "source": [
    "# Optimizer\n",
    "optimizer  = tf.train.GradientDescentOptimizer(learning_rate=learning_rate)\n",
    "\n",
    "# Caculate gradient\n",
    "grad = tfe.implicit_gradients(loss_function)"
   ]
  },
  {
   "cell_type": "code",
   "execution_count": 25,
   "metadata": {},
   "outputs": [
    {
     "name": "stdout",
     "output_type": "stream",
     "text": [
      "Step 0 train loss = 7.04918909072876 test loss = 6.976617813110352\n",
      "Step 100 train loss = 4.406541347503662 test loss = 4.364357948303223\n",
      "Step 200 train loss = 2.758683204650879 test loss = 2.7347662448883057\n",
      "Step 300 train loss = 1.7308827638626099 test loss = 1.717836856842041\n",
      "Step 400 train loss = 1.0895849466323853 test loss = 1.0829213857650757\n",
      "Step 500 train loss = 0.689218282699585 test loss = 0.6862300038337708\n",
      "Step 600 train loss = 0.43906036019325256 test loss = 0.43813034892082214\n",
      "Step 700 train loss = 0.28255948424339294 test loss = 0.2827324867248535\n",
      "Step 800 train loss = 0.18446679413318634 test loss = 0.1851881742477417\n",
      "Step 900 train loss = 0.12281285226345062 test loss = 0.12376752495765686\n",
      "Step 1000 train loss = 0.08390292525291443 test loss = 0.08491823077201843\n",
      "Step 1100 train loss = 0.05919891223311424 test loss = 0.060185279697179794\n",
      "Step 1200 train loss = 0.043377745896577835 test loss = 0.044293101876974106\n",
      "Step 1300 train loss = 0.033119797706604004 test loss = 0.033948615193367004\n",
      "Step 1400 train loss = 0.026354709640145302 test loss = 0.02709546685218811\n",
      "Step 1500 train loss = 0.021790042519569397 test loss = 0.022448157891631126\n",
      "Step 1600 train loss = 0.018618976697325706 test loss = 0.019202718511223793\n",
      "Step 1700 train loss = 0.016337299719452858 test loss = 0.016855673864483833\n",
      "Step 1800 train loss = 0.014629325829446316 test loss = 0.015090936794877052\n",
      "Step 1900 train loss = 0.013297167606651783 test loss = 0.0137097779661417\n",
      "Step 2000 train loss = 0.012216363102197647 test loss = 0.012586690485477448\n",
      "Step 2100 train loss = 0.011308042332530022 test loss = 0.011641794815659523\n",
      "Step 2200 train loss = 0.010522245429456234 test loss = 0.01082422025501728\n",
      "Step 2300 train loss = 0.009826847352087498 test loss = 0.010101036168634892\n",
      "Step 2400 train loss = 0.009200838394463062 test loss = 0.009450568817555904\n",
      "Step 2500 train loss = 0.008630394004285336 test loss = 0.008858444169163704\n",
      "Step 2600 train loss = 0.008106065914034843 test loss = 0.008314757607877254\n",
      "Step 2700 train loss = 0.007621141150593758 test loss = 0.007812432013452053\n",
      "Step 2800 train loss = 0.007170893717557192 test loss = 0.0073464433662593365\n",
      "Step 2900 train loss = 0.006751759443432093 test loss = 0.006912992335855961\n",
      "Step 3000 train loss = 0.006360800005495548 test loss = 0.006508939433842897\n",
      "Step 3100 train loss = 0.005995654035359621 test loss = 0.00613177428022027\n",
      "Step 3200 train loss = 0.005654375068843365 test loss = 0.0057794200256466866\n",
      "Step 3300 train loss = 0.005335175432264805 test loss = 0.005449979566037655\n",
      "Step 3400 train loss = 0.005036537069827318 test loss = 0.005141850095242262\n",
      "Step 3500 train loss = 0.004757075570523739 test loss = 0.004853568039834499\n",
      "Step 3600 train loss = 0.0044954996556043625 test loss = 0.004583782982081175\n",
      "Step 3700 train loss = 0.004250654485076666 test loss = 0.004331288859248161\n",
      "Step 3800 train loss = 0.004021428991109133 test loss = 0.0040949201211333275\n",
      "Step 3900 train loss = 0.0038068376015871763 test loss = 0.0038736567366868258\n",
      "Step 4000 train loss = 0.003605947596952319 test loss = 0.003666527336463332\n",
      "Step 4100 train loss = 0.0034178476780653 test loss = 0.0034725877922028303\n",
      "Step 4200 train loss = 0.003241761587560177 test loss = 0.0032910367008298635\n",
      "Step 4300 train loss = 0.0030768699944019318 test loss = 0.003121023066341877\n",
      "Step 4400 train loss = 0.002922509564086795 test loss = 0.002961862599477172\n",
      "Step 4500 train loss = 0.002777970163151622 test loss = 0.0028128251433372498\n",
      "Step 4600 train loss = 0.002642647363245487 test loss = 0.002673282753676176\n",
      "Step 4700 train loss = 0.002515933243557811 test loss = 0.0025426119100302458\n",
      "Step 4800 train loss = 0.0023973092902451754 test loss = 0.0024202754721045494\n",
      "Step 4900 train loss = 0.002286245347931981 test loss = 0.0023057283833622932\n",
      "Step 5000 train loss = 0.0021822561975568533 test loss = 0.0021984707564115524\n",
      "Step 5100 train loss = 0.00208488292992115 test loss = 0.0020980278495699167\n",
      "Step 5200 train loss = 0.001993714366108179 test loss = 0.002003979869186878\n",
      "Step 5300 train loss = 0.0019083566730841994 test loss = 0.0019159183138981462\n",
      "Step 5400 train loss = 0.0018284397665411234 test loss = 0.0018334622727707028\n",
      "Step 5500 train loss = 0.0017536248778924346 test loss = 0.0017562624998390675\n",
      "Step 5600 train loss = 0.001683560200035572 test loss = 0.0016839585732668638\n",
      "Step 5700 train loss = 0.0016179605154320598 test loss = 0.0016162553802132607\n",
      "Step 5800 train loss = 0.0015565560897812247 test loss = 0.0015528751537203789\n",
      "Step 5900 train loss = 0.0014990568161010742 test loss = 0.0014935199869796634\n",
      "Step 6000 train loss = 0.0014452151954174042 test loss = 0.0014379345811903477\n",
      "Step 6100 train loss = 0.0013948034029453993 test loss = 0.001385883311741054\n",
      "Step 6200 train loss = 0.0013476087478920817 test loss = 0.0013371489476412535\n",
      "Step 6300 train loss = 0.0013034236617386341 test loss = 0.0012915157712996006\n",
      "Step 6400 train loss = 0.0012620583875104785 test loss = 0.0012487894855439663\n",
      "Step 6500 train loss = 0.0012233180459588766 test loss = 0.0012087698560208082\n",
      "Step 6600 train loss = 0.0011870355810970068 test loss = 0.0011712843552231789\n",
      "Step 6700 train loss = 0.001153092598542571 test loss = 0.0011362105142325163\n",
      "Step 6800 train loss = 0.0011212814133614302 test loss = 0.0011033351765945554\n",
      "Step 6900 train loss = 0.0010915269376710057 test loss = 0.0010725805768743157\n",
      "Step 7000 train loss = 0.0010636569932103157 test loss = 0.0010437696473672986\n",
      "Step 7100 train loss = 0.0010375521378591657 test loss = 0.0010167787550017238\n",
      "Step 7200 train loss = 0.0010131074814125896 test loss = 0.0009915009140968323\n",
      "Step 7300 train loss = 0.000990237225778401 test loss = 0.0009678461356088519\n",
      "Step 7400 train loss = 0.0009688186692073941 test loss = 0.0009456897969357669\n",
      "Step 7500 train loss = 0.0009487628703936934 test loss = 0.0009249385911971331\n",
      "Step 7600 train loss = 0.0009299831581301987 test loss = 0.0009055046830326319\n",
      "Step 7700 train loss = 0.0009124159114435315 test loss = 0.0008873217739164829\n",
      "Step 7800 train loss = 0.0008959625847637653 test loss = 0.0008702886989340186\n",
      "Step 7900 train loss = 0.0008805485558696091 test loss = 0.0008543279254809022\n",
      "Step 8000 train loss = 0.000866107817273587 test loss = 0.0008393715252168477\n",
      "Step 8100 train loss = 0.0008526149322278798 test loss = 0.0008253942942246795\n",
      "Step 8200 train loss = 0.0008399536018259823 test loss = 0.000812274869531393\n",
      "Step 8300 train loss = 0.0008281237096525729 test loss = 0.0008000144152902067\n",
      "Step 8400 train loss = 0.0008170185028575361 test loss = 0.0007885022787377238\n",
      "Step 8500 train loss = 0.0008066538721323013 test loss = 0.0007777554565109313\n",
      "Step 8600 train loss = 0.0007969244616106153 test loss = 0.0007676646928302944\n",
      "Step 8700 train loss = 0.0007878196192905307 test loss = 0.0007582189282402396\n",
      "Step 8800 train loss = 0.0007793091353960335 test loss = 0.000749387254472822\n",
      "Step 8900 train loss = 0.0007713307859376073 test loss = 0.0007411051192320883\n",
      "Step 9000 train loss = 0.0007638512761332095 test loss = 0.0007333393441513181\n",
      "Step 9100 train loss = 0.0007568462169729173 test loss = 0.0007260630372911692\n",
      "Step 9200 train loss = 0.000750306120608002 test loss = 0.0007192681077867746\n",
      "Step 9300 train loss = 0.0007441798225045204 test loss = 0.0007129008881747723\n",
      "Step 9400 train loss = 0.0007384419441223145 test loss = 0.0007069355924613774\n",
      "Step 9500 train loss = 0.0007330679218284786 test loss = 0.0007013462600298226\n",
      "Step 9600 train loss = 0.0007280351710505784 test loss = 0.0006961102481000125\n",
      "Step 9700 train loss = 0.0007233209325931966 test loss = 0.0006912035751156509\n",
      "Step 9800 train loss = 0.0007189046591520309 test loss = 0.0006866054609417915\n",
      "Step 9900 train loss = 0.0007147680153138936 test loss = 0.0006822961731813848\n"
     ]
    }
   ],
   "source": [
    "# Training model\n",
    "for step in range(num_steps):\n",
    "    optimizer.apply_gradients(grad(linear_regression, np.float32(X_train), np.float32(y_train)))\n",
    "    if step % 100 ==0:\n",
    "        train_loss = loss_function(linear_regression, np.float32(X_train), np.float32(y_train))\n",
    "        test_loss = loss_function(linear_regression, np.float32(X_test), np.float32(y_test))\n",
    "        print (\"Step {} train loss = {} test loss = {}\".format(step, train_loss, test_loss))"
   ]
  },
  {
   "cell_type": "code",
   "execution_count": 26,
   "metadata": {},
   "outputs": [
    {
     "data": {
      "text/plain": [
       "array([[2.9612942, 3.922976 ]], dtype=float32)"
      ]
     },
     "execution_count": 26,
     "metadata": {},
     "output_type": "execute_result"
    }
   ],
   "source": [
    "w.numpy()"
   ]
  },
  {
   "cell_type": "code",
   "execution_count": 27,
   "metadata": {},
   "outputs": [
    {
     "data": {
      "text/plain": [
       "-0.17148267"
      ]
     },
     "execution_count": 27,
     "metadata": {},
     "output_type": "execute_result"
    }
   ],
   "source": [
    "b.numpy()"
   ]
  },
  {
   "cell_type": "code",
   "execution_count": 28,
   "metadata": {},
   "outputs": [],
   "source": [
    "y_pred = linear_regression(np.float32(X_test))"
   ]
  },
  {
   "cell_type": "code",
   "execution_count": 29,
   "metadata": {},
   "outputs": [
    {
     "data": {
      "text/plain": [
       "<tf.Tensor: id=181828, shape=(2000, 1), dtype=float32, numpy=\n",
       "array([[4.502651 ],\n",
       "       [3.7337623],\n",
       "       [4.333744 ],\n",
       "       ...,\n",
       "       [3.8940823],\n",
       "       [1.8579803],\n",
       "       [2.586601 ]], dtype=float32)>"
      ]
     },
     "execution_count": 29,
     "metadata": {},
     "output_type": "execute_result"
    }
   ],
   "source": [
    "y_pred"
   ]
  },
  {
   "cell_type": "code",
   "execution_count": 30,
   "metadata": {},
   "outputs": [
    {
     "data": {
      "text/plain": [
       "array([[4.5058752 ],\n",
       "       [3.7311503 ],\n",
       "       [4.33921611],\n",
       "       ...,\n",
       "       [3.90181952],\n",
       "       [1.81709078],\n",
       "       [2.56527698]])"
      ]
     },
     "execution_count": 30,
     "metadata": {},
     "output_type": "execute_result"
    }
   ],
   "source": [
    "y_test"
   ]
  },
  {
   "cell_type": "code",
   "execution_count": 31,
   "metadata": {},
   "outputs": [],
   "source": [
    "import matplotlib.pyplot as plt"
   ]
  },
  {
   "cell_type": "code",
   "execution_count": 32,
   "metadata": {},
   "outputs": [
    {
     "data": {
      "text/plain": [
       "[<matplotlib.lines.Line2D at 0x21416796470>]"
      ]
     },
     "execution_count": 32,
     "metadata": {},
     "output_type": "execute_result"
    },
    {
     "data": {
      "image/png": "[encoded data removed]",
      "text/plain": [
       "<Figure size 432x288 with 1 Axes>"
      ]
     },
     "metadata": {
      "needs_background": "light"
     },
     "output_type": "display_data"
    }
   ],
   "source": [
    "plt.plot(range(len(y_test[:20])), y_test[:20],'bo')"
   ]
  },
  {
   "cell_type": "code",
   "execution_count": 35,
   "metadata": {},
   "outputs": [
    {
     "data": {
      "text/plain": [
       "[<matplotlib.lines.Line2D at 0x2141688c908>]"
      ]
     },
     "execution_count": 35,
     "metadata": {},
     "output_type": "execute_result"
    },
    {
     "data": {
      "image/png": "[encoded data removed]",
      "text/plain": [
       "<Figure size 432x288 with 1 Axes>"
      ]
     },
     "metadata": {
      "needs_background": "light"
     },
     "output_type": "display_data"
    }
   ],
   "source": [
    "plt.plot(range(len(y_pred.numpy()[:20])), y_pred.numpy()[:20],'ro')"
   ]
  },
  {
   "cell_type": "code",
   "execution_count": null,
   "metadata": {},
   "outputs": [],
   "source": []
  }
 ],
 "metadata": {
  "kernelspec": {
   "display_name": "TensorflowTutorial",
   "language": "python",
   "name": "tensorflowtutorial"
  },
  "language_info": {
   "codemirror_mode": {
    "name": "ipython",
    "version": 3
   },
   "file_extension": ".py",
   "mimetype": "text/x-python",
   "name": "python",
   "nbconvert_exporter": "python",
   "pygments_lexer": "ipython3",
   "version": "3.6.8"
  }
 },
 "nbformat": 4,
 "nbformat_minor": 2
}
