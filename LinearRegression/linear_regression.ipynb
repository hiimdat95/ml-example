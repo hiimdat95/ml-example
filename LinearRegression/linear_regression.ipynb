{
 "cells": [
  {
   "cell_type": "code",
   "execution_count": 1,
   "metadata": {},
   "outputs": [],
   "source": [
    "import tensorflow as tf"
   ]
  },
  {
   "cell_type": "code",
   "execution_count": 2,
   "metadata": {},
   "outputs": [],
   "source": [
    "import numpy as np"
   ]
  },
  {
   "cell_type": "code",
   "execution_count": 6,
   "metadata": {},
   "outputs": [],
   "source": [
    "# X = [1,2,3,4] <=> [x0, x1, x2, x3]\n",
    "# Y = [2] <=> w_init + w_0*x0 + ... + w_3*x3\n",
    "\n",
    "# Fake X data\n",
    "x_data = np.random.random((10000,2))\n",
    "\n",
    "# Fake sample weights\n",
    "sample_weights = np.array([3, 4]).reshape(2,)\n",
    "\n",
    "# Fake y_data\n",
    "y_data = np.matmul(x_data, sample_weights)\n"
   ]
  },
  {
   "cell_type": "code",
   "execution_count": 7,
   "metadata": {},
   "outputs": [
    {
     "data": {
      "text/plain": [
       "array([0.43769294, 0.82152581])"
      ]
     },
     "execution_count": 7,
     "metadata": {},
     "output_type": "execute_result"
    }
   ],
   "source": [
    "x_data[0]"
   ]
  },
  {
   "cell_type": "code",
   "execution_count": 8,
   "metadata": {},
   "outputs": [
    {
     "data": {
      "text/plain": [
       "4.5991820748415195"
      ]
     },
     "execution_count": 8,
     "metadata": {},
     "output_type": "execute_result"
    }
   ],
   "source": [
    "y_data[0]"
   ]
  },
  {
   "cell_type": "code",
   "execution_count": 9,
   "metadata": {},
   "outputs": [],
   "source": [
    "y_data = np.add(y_data, np.random.uniform(-0.5, 0.5))"
   ]
  },
  {
   "cell_type": "code",
   "execution_count": 10,
   "metadata": {},
   "outputs": [
    {
     "data": {
      "text/plain": [
       "4.887475466694129"
      ]
     },
     "execution_count": 10,
     "metadata": {},
     "output_type": "execute_result"
    }
   ],
   "source": [
    "y_data[0]"
   ]
  },
  {
   "cell_type": "code",
   "execution_count": 11,
   "metadata": {},
   "outputs": [
    {
     "data": {
      "text/plain": [
       "(10000,)"
      ]
     },
     "execution_count": 11,
     "metadata": {},
     "output_type": "execute_result"
    }
   ],
   "source": [
    " y_data.shape"
   ]
  },
  {
   "cell_type": "code",
   "execution_count": 12,
   "metadata": {},
   "outputs": [],
   "source": [
    "y_data = y_data.reshape(len(y_data), 1)"
   ]
  },
  {
   "cell_type": "code",
   "execution_count": 13,
   "metadata": {},
   "outputs": [
    {
     "data": {
      "text/plain": [
       "(10000, 1)"
      ]
     },
     "execution_count": 13,
     "metadata": {},
     "output_type": "execute_result"
    }
   ],
   "source": [
    "y_data.shape"
   ]
  },
  {
   "cell_type": "code",
   "execution_count": 14,
   "metadata": {},
   "outputs": [
    {
     "data": {
      "text/plain": [
       "array([[0.43769294, 0.82152581],\n",
       "       [0.33960069, 0.15087758],\n",
       "       [0.43231566, 0.11986343],\n",
       "       ...,\n",
       "       [0.3283669 , 0.3445701 ],\n",
       "       [0.30730418, 0.86642772],\n",
       "       [0.21089669, 0.79703499]])"
      ]
     },
     "execution_count": 14,
     "metadata": {},
     "output_type": "execute_result"
    }
   ],
   "source": [
    "x_data"
   ]
  },
  {
   "cell_type": "code",
   "execution_count": 15,
   "metadata": {},
   "outputs": [],
   "source": [
    "from sklearn.model_selection import train_test_split"
   ]
  },
  {
   "cell_type": "code",
   "execution_count": 16,
   "metadata": {},
   "outputs": [],
   "source": [
    "x_train, x_test, y_train, y_test = train_test_split(x_data, y_data, test_size=0.2, random_state=42)"
   ]
  },
  {
   "cell_type": "code",
   "execution_count": 19,
   "metadata": {},
   "outputs": [
    {
     "data": {
      "text/plain": [
       "(8000, 1)"
      ]
     },
     "execution_count": 19,
     "metadata": {},
     "output_type": "execute_result"
    }
   ],
   "source": [
    "x_train.shape\n",
    "y_train.shape"
   ]
  },
  {
   "cell_type": "code",
   "execution_count": 21,
   "metadata": {},
   "outputs": [
    {
     "name": "stdout",
     "output_type": "stream",
     "text": [
      "2\n"
     ]
    }
   ],
   "source": [
    "n_dim = x_train.shape[1]\n",
    "print(n_dim)"
   ]
  },
  {
   "cell_type": "code",
   "execution_count": 22,
   "metadata": {},
   "outputs": [],
   "source": [
    "# Placeholder for pass data\n",
    "x = tf.placeholder(tf.float32, [None, n_dim])\n",
    "y = tf.placeholder(tf.float32, [None, 1])"
   ]
  },
  {
   "cell_type": "code",
   "execution_count": 28,
   "metadata": {},
   "outputs": [],
   "source": [
    "# Trainable weights\n",
    "w = tf.Variable(tf.ones([n_dim, 1]))\n",
    "b = tf.Variable(np.random.random(), dtype=tf.float32)"
   ]
  },
  {
   "cell_type": "code",
   "execution_count": 30,
   "metadata": {},
   "outputs": [],
   "source": [
    "pred = tf.add(tf.matmul(x,w), b)"
   ]
  },
  {
   "cell_type": "code",
   "execution_count": 32,
   "metadata": {},
   "outputs": [],
   "source": [
    "loss = tf.reduce_mean(tf.square(pred - y))\n",
    "learning_rate = 0.001\n",
    "optimizer = tf.train.GradientDescentOptimizer(learning_rate = learning_rate).minimize(loss)\n"
   ]
  },
  {
   "cell_type": "code",
   "execution_count": 34,
   "metadata": {},
   "outputs": [],
   "source": [
    "init = tf.global_variables_initializer()"
   ]
  },
  {
   "cell_type": "code",
   "execution_count": 35,
   "metadata": {},
   "outputs": [],
   "source": [
    "sess = tf.Session()"
   ]
  },
  {
   "cell_type": "code",
   "execution_count": 51,
   "metadata": {},
   "outputs": [
    {
     "name": "stdout",
     "output_type": "stream",
     "text": [
      "Epoch 0 test loss = 5.836973667144775\n",
      "Epoch 500 test loss = 0.7559752464294434\n",
      "Epoch 1000 test loss = 0.4619534909725189\n",
      "Epoch 1500 test loss = 0.40257686376571655\n",
      "Epoch 2000 test loss = 0.3598056137561798\n",
      "Epoch 2500 test loss = 0.3222087025642395\n",
      "Epoch 3000 test loss = 0.28865334391593933\n",
      "Epoch 3500 test loss = 0.2586517333984375\n",
      "Epoch 4000 test loss = 0.23181284964084625\n",
      "Epoch 4500 test loss = 0.20779526233673096\n",
      "Training finished\n"
     ]
    }
   ],
   "source": [
    "# Traning\n",
    "sess.run(init)\n",
    "epochs = 5000\n",
    "\n",
    "loss_history = []\n",
    "\n",
    "\n",
    "for epoch in range(epochs):\n",
    "    sess.run(optimizer, feed_dict={x: x_train, y: y_train})\n",
    "    test_loss = sess.run(loss, feed_dict={x: x_test, y: y_test})\n",
    "    \n",
    "    loss_history.append(test_loss)\n",
    "    if epoch % 500 ==0:\n",
    "        print(\"Epoch {} test loss = {}\".format(epoch, test_loss))\n",
    "print(\"Training finished\")"
   ]
  },
  {
   "cell_type": "code",
   "execution_count": 45,
   "metadata": {},
   "outputs": [
    {
     "name": "stdout",
     "output_type": "stream",
     "text": [
      "[5.8369737, 5.8048124, 5.772847, 5.741075, 5.709496, 5.6781077, 5.64691, 5.6159, 5.5850782, 5.5544443, 5.523994, 5.4937305, 5.4636493, 5.43375, 5.4040337, 5.374494, 5.3451347, 5.315954, 5.28695, 5.258121, 5.2294664, 5.200986, 5.1726775, 5.14454, 5.1165733, 5.0887766, 5.0611477, 5.0336857, 5.0063906, 4.979261, 4.9522943, 4.9254923, 4.8988523, 4.872373, 4.8460536, 4.8198943, 4.7938924, 4.7680497, 4.7423635, 4.7168307, 4.691453, 4.6662307, 4.641158, 4.616239, 4.5914702, 4.566852, 4.542382, 4.5180607, 4.4938855, 4.469857, 4.445975, 4.422236, 4.3986397, 4.3751884, 4.3518786, 4.3287096, 4.30568, 4.282791, 4.260038, 4.237426, 4.214947, 4.1926064, 4.1704006, 4.1483293, 4.1263905, 4.1045847, 4.082911, 4.061368, 4.0399556, 4.0186715, 3.9975173, 3.9764912, 3.9555912, 3.934817, 3.914171, 3.8936474, 3.8732495, 3.8529735, 3.832821, 3.8127894, 3.7928789, 3.7730892, 3.7534194, 3.7338676, 3.7144346, 3.6951187, 3.6759202, 3.656837, 3.6378696, 3.6190162, 3.600277, 3.5816507, 3.5631368, 3.544735, 3.5264442, 3.5082633, 3.4901936, 3.4722319, 3.454379, 3.4366333, 3.4189959, 3.4014645, 3.3840384, 3.3667183, 3.3495018, 3.33239, 3.315382, 3.298476, 3.2816718, 3.2649698, 3.2483678, 3.2318664, 3.2154644, 3.199161, 3.1829565, 3.1668496, 3.15084, 3.1349266, 3.119109, 3.103387, 3.08776, 3.0722275, 3.0567887, 3.0414429, 3.0261898, 3.0110283, 2.9959586, 2.9809794, 2.9660914, 2.9512916, 2.936582, 2.9219608, 2.9074273, 2.8929825, 2.8786237, 2.864352, 2.8501666, 2.8360662, 2.8220503, 2.80812, 2.794273, 2.7805095, 2.766829, 2.7532313, 2.7397149, 2.7262802, 2.7129264, 2.6996531, 2.6864593, 2.6733453, 2.6603105, 2.6473532, 2.6344743, 2.6216733, 2.6089494, 2.5963018, 2.5837302, 2.571235, 2.558814, 2.546469, 2.5341978, 2.5220003, 2.509876, 2.4978247, 2.4858458, 2.4739394, 2.4621046, 2.4503403, 2.4386475, 2.4270248, 2.4154723, 2.4039881, 2.3925745, 2.3812294, 2.3699512, 2.3587415, 2.3475986, 2.3365242, 2.3255155, 2.3145733, 2.3036962, 2.2928853, 2.2821386, 2.2714565, 2.2608395, 2.2502851, 2.2397945, 2.2293673, 2.2190025, 2.2087, 2.1984591, 2.1882796, 2.1781619, 2.1681042, 2.1581075, 2.1481702, 2.138293, 2.1284747, 2.1187153, 2.109015, 2.099373, 2.0897887, 2.0802615, 2.0707917, 2.0613787, 2.0520225, 2.0427217, 2.0334775, 2.0242882, 2.0151544, 2.006075, 1.99705, 1.9880794, 1.9791621, 1.9702989, 1.961488, 1.9527305, 1.9440256, 1.9353727, 1.9267715, 1.918222, 1.9097238, 1.9012756, 1.8928784, 1.884532, 1.8762351, 1.8679888, 1.8597906, 1.8516423, 1.8435425, 1.8354912, 1.8274881, 1.8195328, 1.8116255, 1.8037649, 1.795952, 1.7881856, 1.7804658, 1.772792, 1.7651639, 1.7575816, 1.7500442, 1.7425525, 1.7351053, 1.7277026, 1.7203442, 1.71303, 1.7057588, 1.698532, 1.6913475, 1.6842062, 1.6771079, 1.6700517, 1.6630374, 1.6560653, 1.6491346, 1.6422457, 1.6353977, 1.6285903, 1.6218234, 1.6150974, 1.6084116, 1.6017654, 1.5951589, 1.5885918, 1.5820639, 1.5755749, 1.5691245, 1.5627127, 1.5563391, 1.5500033, 1.5437057, 1.5374457, 1.5312225, 1.5250365, 1.518887, 1.5127747, 1.5066986, 1.5006588, 1.4946548, 1.4886868, 1.4827541, 1.476857, 1.4709947, 1.4651676, 1.4593745, 1.4536167, 1.4478924, 1.4422028, 1.4365466, 1.4309239, 1.4253352, 1.4197791, 1.4142567, 1.4087669, 1.4033091, 1.3978841, 1.3924917, 1.387131, 1.3818022, 1.3765049, 1.3712394, 1.3660046, 1.3608015, 1.3556291, 1.3504871, 1.3453758, 1.3402946, 1.3352439, 1.3302228, 1.3252318, 1.3202705, 1.3153384, 1.3104353, 1.3055613, 1.3007166, 1.2959, 1.2911127, 1.2863532, 1.2816218, 1.2769186, 1.2722434, 1.2675955, 1.2629755, 1.2583827, 1.2538171, 1.2492785, 1.2447668, 1.2402817, 1.2358233, 1.2313911, 1.2269849, 1.222605, 1.218251, 1.2139224, 1.2096196, 1.2053424, 1.2010906, 1.1968633, 1.1926612, 1.188484, 1.1843314, 1.1802032, 1.1760994, 1.1720201, 1.1679646, 1.1639332, 1.159925, 1.155941, 1.1519803, 1.1480427, 1.1441284, 1.1402376, 1.1363693, 1.1325239, 1.1287009, 1.1249009, 1.1211228, 1.1173669, 1.1136335, 1.1099219, 1.1062319, 1.1025637, 1.098917, 1.095292, 1.091688, 1.0881052, 1.0845436, 1.0810032, 1.077483, 1.0739839, 1.070505, 1.0670466, 1.0636085, 1.0601904, 1.0567926, 1.0534146, 1.0500567, 1.0467182, 1.0433995, 1.0400999, 1.0368196, 1.0335588, 1.0303172, 1.0270942, 1.0238901, 1.0207047, 1.0175382, 1.0143901, 1.0112604, 1.008149, 1.0050559, 1.0019807, 0.9989235, 0.995884, 0.99286264, 0.9898586, 0.9868722, 0.9839033, 0.98095155, 0.978017, 0.9750993, 0.97219896, 0.9693156, 0.966449, 0.9635991, 0.96076554, 0.95794886, 0.95514846, 0.95236415, 0.94959617, 0.94684416, 0.94410807, 0.9413882, 0.93868417, 0.9359958, 0.93332285, 0.9306655, 0.9280237, 0.92539734, 0.9227859, 0.92018956, 0.9176085, 0.9150423, 0.9124909, 0.9099545, 0.9074326, 0.9049254, 0.9024327, 0.89995456, 0.89749056, 0.89504087, 0.89260554, 0.8901842, 0.8877769, 0.88538325, 0.88300365, 0.88063765, 0.8782855, 0.8759468, 0.87362176, 0.87131006, 0.8690116, 0.86672634, 0.86445427, 0.86219543, 0.85994947, 0.8577168, 0.85549635, 0.85328895, 0.8510945, 0.8489125, 0.8467428, 0.8445859, 0.84244114, 0.84030885, 0.8381888, 0.8360811, 0.8339853, 0.8319014, 0.8298297, 0.82776976, 0.8257218, 0.82368547, 0.82166064, 0.8196477, 0.81764597, 0.815656, 0.81367725, 0.8117098, 0.80975354, 0.80780846, 0.8058745, 0.80395186, 0.80203986, 0.800139, 0.79824895, 0.7963696, 0.7945012, 0.7926432, 0.790796, 0.78895897, 0.7871327, 0.7853165, 0.7835109, 0.78171563, 0.7799304, 0.77815527, 0.7763904, 0.77463526, 0.7728903, 0.77115536, 0.7694301, 0.76771456, 0.76600885, 0.76431274, 0.76262635, 0.7609493, 0.7592819, 0.7576239, 0.75597525, 0.7543358, 0.75270593, 0.751085, 0.7494732, 0.7478706, 0.7462771, 0.7446924, 0.74311674, 0.7415499, 0.73999196, 0.7384428, 0.73690224, 0.7353703, 0.73384714, 0.7323324, 0.73082626, 0.72932845, 0.72783923, 0.7263583, 0.7248857, 0.7234212, 0.7219652, 0.7205171, 0.7190773, 0.7176452, 0.7162214, 0.7148055, 0.7133977, 0.71199745, 0.71060514, 0.70922047, 0.70784366, 0.70647466, 0.7051133, 0.7037591, 0.7024127, 0.7010738, 0.6997423, 0.69841814, 0.6971015, 0.69579214, 0.69448996, 0.6931949, 0.6919072, 0.69062644, 0.68935317, 0.68808657, 0.686827, 0.6855746, 0.684329, 0.6830903, 0.6818585, 0.6806333, 0.679415, 0.6782032, 0.67699844, 0.6757999, 0.6746084, 0.6734232, 0.67224455, 0.67107236, 0.6699067, 0.6687474, 0.6675944, 0.6664476, 0.6653072, 0.66417307, 0.6630452, 0.6619236, 0.6608077, 0.65969825, 0.6585947, 0.65749747, 0.6564061, 0.6553207, 0.6542411, 0.6531671, 0.6520994, 0.6510372, 0.6499809, 0.64893055, 0.6478856, 0.6468465, 0.6458129, 0.644785, 0.64376247, 0.6427457, 0.64173424, 0.6407284, 0.63972795, 0.6387329, 0.6377432, 0.63675886, 0.6357798, 0.63480604, 0.63383746, 0.632874, 0.63191587, 0.6309629, 0.63001496, 0.6290721, 0.6281343, 0.6272017, 0.62627393, 0.62535113, 0.6244332, 0.6235202, 0.62261206, 0.62170887, 0.6208103, 0.6199167, 0.61902773, 0.61814356, 0.61726415, 0.6163893, 0.61551917, 0.6146536, 0.61379266, 0.61293626, 0.6120842, 0.61123693, 0.61039406, 0.60955554, 0.60872155, 0.60789186, 0.6070665, 0.6062458, 0.6054292, 0.60461676, 0.6038087, 0.6030049, 0.60220546, 0.60141, 0.6006186, 0.5998315, 0.59904844, 0.5982696, 0.5974947, 0.596724, 0.5959572, 0.59519446, 0.59443545, 0.5936806, 0.59292954, 0.5921826, 0.59143937, 0.5907001, 0.5899646, 0.58923304, 0.58850473, 0.58778083, 0.58706033, 0.58634365, 0.5856305, 0.58492106, 0.5842154, 0.5835134, 0.5828149, 0.5821199, 0.5814287, 0.58074087, 0.58005637, 0.5793756, 0.57869834, 0.57802445, 0.5773541, 0.576687, 0.5760232, 0.57536304, 0.5747062, 0.57405263, 0.57340217, 0.5727553, 0.5721114, 0.571471, 0.5708336, 0.5701997, 0.569569, 0.5689413, 0.56831676, 0.56769544, 0.5670773, 0.5664619, 0.56584984, 0.56524086, 0.56463474, 0.56403184, 0.56343216, 0.562835, 0.562241, 0.56165004, 0.5610619, 0.5604768, 0.5598944, 0.55931497, 0.55873847, 0.5581649, 0.557594, 0.55702585, 0.55646056, 0.55589813, 0.5553384, 0.5547814, 0.5542272, 0.5536758, 0.55312693, 0.5525807, 0.5520371, 0.55149645, 0.55095834, 0.5504228, 0.5498896, 0.5493593, 0.54883164, 0.5483062, 0.5477837, 0.5472634, 0.5467456, 0.5462306, 0.5457178, 0.5452075, 0.5446997, 0.5441943, 0.54369134, 0.5431908, 0.5426927, 0.542197, 0.54170346, 0.5412126, 0.5407237, 0.54023737, 0.53975344, 0.53927153, 0.538792, 0.5383147, 0.5378399, 0.53736705, 0.5368966, 0.53642833, 0.5359623, 0.5354982, 0.5350366, 0.5345769, 0.5341195, 0.53366417, 0.533211, 0.5327599, 0.5323109, 0.5318642, 0.53141934, 0.5309764, 0.5305357, 0.530097, 0.5296604, 0.52922577, 0.5287932, 0.52836245, 0.5279337, 0.527507, 0.5270822, 0.5266594, 0.52623844, 0.5258195, 0.52540237, 0.52498704, 0.52457386, 0.5241625, 0.52375287, 0.52334505, 0.52293926, 0.52253515, 0.5221329, 0.5217323, 0.52133363, 0.52093685, 0.5205416, 0.5201483, 0.51975673, 0.51936674, 0.51897866, 0.5185923, 0.5182075, 0.51782465, 0.5174433, 0.51706374, 0.5166858, 0.51630944, 0.5159348, 0.5155619, 0.5151904, 0.5148208, 0.51445276, 0.5140862, 0.51372117, 0.5133579, 0.51299614, 0.5126359, 0.51227725, 0.5119201, 0.5115645, 0.5112105, 0.5108581, 0.51050687, 0.51015735, 0.5098093, 0.5094627, 0.5091177, 0.5087741, 0.5084319, 0.5080912, 0.507752, 0.50741416, 0.50707775, 0.5067428, 0.50640917, 0.50607693, 0.5057461, 0.5054167, 0.5050886, 0.5047619, 0.5044367, 0.5041126, 0.5037899, 0.5034686, 0.5031487, 0.5028299, 0.5025126, 0.50219655, 0.5018817, 0.5015683, 0.5012561, 0.5009451, 0.50063545, 0.500327, 0.50001997, 0.4997139, 0.49940923, 0.49910578, 0.49880356, 0.49850246, 0.49820262, 0.497904, 0.4976065, 0.49731025, 0.49701527, 0.49672118, 0.49642855, 0.49613687, 0.49584636, 0.49555707, 0.4952689, 0.49498197, 0.49469587, 0.49441108, 0.49412733, 0.49384472, 0.49356312, 0.49328277, 0.49300337, 0.49272516, 0.49244794, 0.49217188, 0.49189672, 0.4916227, 0.49134967, 0.49107784, 0.49080682, 0.490537, 0.49026805, 0.4900003, 0.48973337, 0.48946756, 0.4892027, 0.48893878, 0.48867595, 0.4884141, 0.48815307, 0.48789322, 0.48763415, 0.48737612, 0.487119, 0.4868629, 0.48660764, 0.48635343, 0.48610008, 0.48584765, 0.48559612, 0.4853456, 0.4850959, 0.48484698, 0.4845991, 0.48435214, 0.4841061, 0.48386085, 0.48361644, 0.483373, 0.48313043, 0.48288855, 0.48264784, 0.48240772, 0.48216847, 0.48193017, 0.48169252, 0.4814558, 0.48121998, 0.48098493, 0.48075065, 0.48051724, 0.4802845, 0.48005274, 0.47982165, 0.4795914, 0.47936198, 0.47913343, 0.47890547, 0.47867838, 0.4784521, 0.4782265, 0.47800165, 0.4777776, 0.4775542, 0.47733167, 0.47710985, 0.47688872, 0.47666842, 0.47644892, 0.47622982, 0.47601175, 0.47579437, 0.4755775, 0.4753614, 0.47514623, 0.47493145, 0.4747176, 0.4745044, 0.47429186, 0.4740799, 0.47386873, 0.47365826, 0.4734485, 0.47323924, 0.47303078, 0.47282287, 0.47261566, 0.47240916, 0.4722033, 0.4719981, 0.47179332, 0.47158945, 0.47138616, 0.47118354, 0.47098136, 0.47077996, 0.47057912, 0.4703789, 0.47017935, 0.46998033, 0.46978205, 0.4695842, 0.46938705, 0.46919036, 0.4689944, 0.468799, 0.4686042, 0.46840993, 0.46821624, 0.46802324, 0.46783075, 0.46763867, 0.4674474, 0.4672566, 0.46706635, 0.46687666, 0.46668747, 0.46649897, 0.46631083, 0.4661233, 0.46593633, 0.46575, 0.46556404, 0.46537855, 0.46519378, 0.4650094, 0.4648256, 0.4646424, 0.4644596, 0.46427736, 0.46409565, 0.46391442, 0.4637337, 0.46355346, 0.4633738, 0.46319455, 0.46301574, 0.46283746, 0.46265978, 0.4624825, 0.46230572, 0.4621294]\n"
     ]
    }
   ],
   "source": [
    "print(loss_history)"
   ]
  },
  {
   "cell_type": "code",
   "execution_count": 53,
   "metadata": {},
   "outputs": [
    {
     "data": {
      "text/plain": [
       "array([[2.2039506],\n",
       "       [2.7844205]], dtype=float32)"
      ]
     },
     "execution_count": 53,
     "metadata": {},
     "output_type": "execute_result"
    }
   ],
   "source": [
    "sess.run(w)"
   ]
  },
  {
   "cell_type": "code",
   "execution_count": 47,
   "metadata": {},
   "outputs": [
    {
     "data": {
      "text/plain": [
       "1.8448515"
      ]
     },
     "execution_count": 47,
     "metadata": {},
     "output_type": "execute_result"
    }
   ],
   "source": [
    "sess.run(b)"
   ]
  },
  {
   "cell_type": "code",
   "execution_count": 52,
   "metadata": {},
   "outputs": [
    {
     "data": {
      "image/png": "[encoded data removed]",
      "text/plain": [
       "<Figure size 432x288 with 1 Axes>"
      ]
     },
     "metadata": {
      "needs_background": "light"
     },
     "output_type": "display_data"
    }
   ],
   "source": [
    "import matplotlib.pyplot as plt\n",
    "\n",
    "plt.plot(range(len(loss_history)), loss_history)\n",
    "plt.axis([0, epochs, 0, np.max(loss_history)])\n",
    "plt.show()"
   ]
  },
  {
   "cell_type": "code",
   "execution_count": 49,
   "metadata": {},
   "outputs": [],
   "source": []
  },
  {
   "cell_type": "code",
   "execution_count": null,
   "metadata": {},
   "outputs": [],
   "source": []
  }
 ],
 "metadata": {
  "kernelspec": {
   "display_name": "TensorflowTutorial",
   "language": "python",
   "name": "tensorflowtutorial"
  },
  "language_info": {
   "codemirror_mode": {
    "name": "ipython",
    "version": 3
   },
   "file_extension": ".py",
   "mimetype": "text/x-python",
   "name": "python",
   "nbconvert_exporter": "python",
   "pygments_lexer": "ipython3",
   "version": "3.6.8"
  }
 },
 "nbformat": 4,
 "nbformat_minor": 2
}
